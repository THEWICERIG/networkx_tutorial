{
 "cells": [
  {
   "cell_type": "code",
   "execution_count": 1,
   "metadata": {},
   "outputs": [],
   "source": [
    "import networkx as nx"
   ]
  },
  {
   "cell_type": "markdown",
   "metadata": {},
   "source": [
    "# Some different ways to construct graphs\n",
    "\n",
    "## Classic graphs"
   ]
  },
  {
   "cell_type": "code",
   "execution_count": 5,
   "metadata": {},
   "outputs": [],
   "source": [
    "# A complete graph with n=5 nodes. This means every node is connected\n",
    "# to every other node.\n",
    "K_5 = nx.complete_graph(5)\n",
    "\n",
    "# A complete bipartite graph\n",
    "# two sets (one of 3 and one of 5) that are not connected internally,\n",
    "# but are connected to each node from the other set. \n",
    "K_3_5 = nx.complete_bipartite_graph(3, 5)\n",
    "\n",
    "# Two complete graphs connected by a path. Complete graphs are of same size.\n",
    "# m1 defines the size of left and right barbells.\n",
    "# m2 defines length of path connecting the barbells.\n",
    "barbell = nx.barbell_graph(m1=10, m2=10)\n",
    "\n",
    "# A basrbell without the right-side.\n",
    "# m for number of nodes in complete graph. \n",
    "# n for nodes in path.\n",
    "lollipop = nx.lollipop_graph(m=10, n=20)\n",
    "\n",
    "\n",
    "# See the helpful image for visualisations."
   ]
  },
  {
   "cell_type": "markdown",
   "metadata": {},
   "source": [
    "## Stochastic graph generators\n",
    "\n",
    "Generating random graphs"
   ]
  },
  {
   "cell_type": "code",
   "execution_count": null,
   "metadata": {},
   "outputs": [],
   "source": [
    "# Returns a random graph, knwon as an erdos renyi graph.\n",
    "# n is the number of nodes.\n",
    "# p is the probability of an edge being created.\n",
    "er = nx.erdos_renyi_graph(n=100, p=0.15)"
   ]
  },
  {
   "cell_type": "code",
   "execution_count": null,
   "metadata": {},
   "outputs": [],
   "source": [
    "# Creates a Watts Strogatz small-world graph\n",
    "ws = nx.watts_strogatz_graph(30, 3, 0.1)\n"
   ]
  },
  {
   "cell_type": "markdown",
   "metadata": {},
   "source": [
    "A small-world graph tends to have small cliques or near-cliques (known as sub-networks) which are close to being complete. There are a few connections between different cliques. Imagine a social netowrk, which tends to create small-world graphs. A group of people will be connected via friends knowing friends., In some casaes there will be external connections between two sub-cliques via one-off encounters from holidays, for example, in which two people from different social circles may connect, linking the two sub-networks."
   ]
  },
  {
   "cell_type": "code",
   "execution_count": null,
   "metadata": {},
   "outputs": [],
   "source": [
    "ba = nx.barabasi_albert_graph(100, 5)\n",
    "red = nx.random_lobster(100, 0.9, 0.9)"
   ]
  }
 ],
 "metadata": {
  "kernelspec": {
   "display_name": ".venv",
   "language": "python",
   "name": "python3"
  },
  "language_info": {
   "codemirror_mode": {
    "name": "ipython",
    "version": 3
   },
   "file_extension": ".py",
   "mimetype": "text/x-python",
   "name": "python",
   "nbconvert_exporter": "python",
   "pygments_lexer": "ipython3",
   "version": "3.11.9"
  }
 },
 "nbformat": 4,
 "nbformat_minor": 2
}
